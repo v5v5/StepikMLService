{
  "nbformat": 4,
  "nbformat_minor": 0,
  "metadata": {
    "colab": {
      "provenance": [],
      "gpuType": "T4",
      "authorship_tag": "ABX9TyNjBIYfUjeh0XhfT9P+PHUi",
      "include_colab_link": true
    },
    "kernelspec": {
      "name": "python3",
      "display_name": "Python 3"
    },
    "language_info": {
      "name": "python"
    },
    "accelerator": "GPU"
  },
  "cells": [
    {
      "cell_type": "markdown",
      "metadata": {
        "id": "view-in-github",
        "colab_type": "text"
      },
      "source": [
        "<a href=\"https://colab.research.google.com/github/v5v5/StepikMLService/blob/main/%D0%9A%D0%BE%D0%BF%D0%B8%D1%8F_%D0%B1%D0%BB%D0%BE%D0%BA%D0%BD%D0%BE%D1%82%D0%B0_%22%D0%9A%D0%BB%D0%B8%D0%B5%D0%BD%D1%82%D1%8B_%D0%B0%D0%B2%D0%B8%D0%B0%D0%BA%D0%BE%D0%BC%D0%BF%D0%B0%D0%BD%D0%B8%D0%B8_ipynb%22.ipynb\" target=\"_parent\"><img src=\"https://colab.research.google.com/assets/colab-badge.svg\" alt=\"Open In Colab\"/></a>"
      ]
    },
    {
      "cell_type": "code",
      "execution_count": null,
      "metadata": {
        "id": "EBVkjikYPOYt"
      },
      "outputs": [],
      "source": [
        "import pandas as pd\n",
        "import seaborn as sns\n",
        "import numpy as np\n",
        "import matplotlib.pyplot as plt"
      ]
    },
    {
      "cell_type": "code",
      "source": [
        "df = pd.read_csv(\"https://raw.githubusercontent.com/evgpat/edu_stepik_from_idea_to_mvp/main/datasets/clients.csv\")"
      ],
      "metadata": {
        "id": "XqWnOlHSPVXH"
      },
      "execution_count": null,
      "outputs": []
    },
    {
      "cell_type": "code",
      "source": [
        "# df.head(3)\n",
        "# df.sample(3)\n",
        "df.shape\n",
        "# df.info()"
      ],
      "metadata": {
        "colab": {
          "base_uri": "https://localhost:8080/"
        },
        "id": "qDr5PRX9q5FB",
        "outputId": "c295d377-81a5-4a67-a4c4-ba3e8b5e4cc6"
      },
      "execution_count": null,
      "outputs": [
        {
          "output_type": "execute_result",
          "data": {
            "text/plain": [
              "(129880, 24)"
            ]
          },
          "metadata": {},
          "execution_count": 121
        }
      ]
    },
    {
      "cell_type": "markdown",
      "source": [
        "# Алгоритм исследования\n",
        "## Исследуем значения satisfaction\n",
        "Отобразим значения satisfaction."
      ],
      "metadata": {
        "id": "WChwqukwTNh-"
      }
    },
    {
      "cell_type": "code",
      "source": [
        "df[['satisfaction']].value_counts(dropna=False)"
      ],
      "metadata": {
        "colab": {
          "base_uri": "https://localhost:8080/"
        },
        "id": "QUmxxzw8TORP",
        "outputId": "6ad68110-ed5c-49d7-a329-acef3479f647"
      },
      "execution_count": null,
      "outputs": [
        {
          "output_type": "execute_result",
          "data": {
            "text/plain": [
              "satisfaction           \n",
              "neutral or dissatisfied    58879\n",
              "satisfied                  45025\n",
              "-                          25976\n",
              "dtype: int64"
            ]
          },
          "metadata": {},
          "execution_count": 122
        }
      ]
    },
    {
      "cell_type": "code",
      "source": [
        "df[['satisfaction']].value_counts(dropna=False, normalize=True)"
      ],
      "metadata": {
        "colab": {
          "base_uri": "https://localhost:8080/"
        },
        "id": "zdKq72LzTbrM",
        "outputId": "ad1fc84c-af7d-43b8-c921-038c0f5f7c6f"
      },
      "execution_count": null,
      "outputs": [
        {
          "output_type": "execute_result",
          "data": {
            "text/plain": [
              "satisfaction           \n",
              "neutral or dissatisfied    0.453334\n",
              "satisfied                  0.346666\n",
              "-                          0.200000\n",
              "dtype: float64"
            ]
          },
          "metadata": {},
          "execution_count": 123
        }
      ]
    },
    {
      "cell_type": "markdown",
      "source": [
        "Убедимся, что там три значения 'satisfied', 'neutral or dissatisfied' и '-'.\n",
        "Т.к. значение '-' невозможно интерпретировать, то примем решение, что строки со значениями '-' нужно выбросить из исследуемой таблицы. Это сделаем в конце исселодвательского анализа."
      ],
      "metadata": {
        "id": "1CRCxzG_Th2E"
      }
    },
    {
      "cell_type": "code",
      "source": [
        "df = df[~df['satisfaction'].isin(['-'])]\n",
        "df.shape"
      ],
      "metadata": {
        "colab": {
          "base_uri": "https://localhost:8080/"
        },
        "id": "4Ly1o4NUTjAk",
        "outputId": "b9ba8dc6-3c3a-4c0e-b955-345156c61f20"
      },
      "execution_count": null,
      "outputs": [
        {
          "output_type": "execute_result",
          "data": {
            "text/plain": [
              "(103904, 24)"
            ]
          },
          "metadata": {},
          "execution_count": 124
        }
      ]
    },
    {
      "cell_type": "markdown",
      "source": [
        "Переменная принимает только два нечисловых значения, значит это задача классификации.\n",
        "## Исследуем значения Gender"
      ],
      "metadata": {
        "id": "kYrHV72iT0zU"
      }
    },
    {
      "cell_type": "code",
      "source": [
        "df[['Gender']].value_counts(dropna=False, normalize=True)"
      ],
      "metadata": {
        "colab": {
          "base_uri": "https://localhost:8080/"
        },
        "id": "154XvDlqUUv-",
        "outputId": "995b998c-6e1a-428a-8214-71302e052ca6"
      },
      "execution_count": null,
      "outputs": [
        {
          "output_type": "execute_result",
          "data": {
            "text/plain": [
              "Gender\n",
              "Female    0.506140\n",
              "Male      0.491357\n",
              "NaN       0.002502\n",
              "dtype: float64"
            ]
          },
          "metadata": {},
          "execution_count": 125
        }
      ]
    },
    {
      "cell_type": "markdown",
      "source": [
        "Значения содержат NaN. Подсчитаем количество NaN. Можно сделать вывод, что их очень мало, поэтому эти строки из таблицы можно выбросить.\n",
        "## Исследуем значения Age"
      ],
      "metadata": {
        "id": "RyPjvrigUUFO"
      }
    },
    {
      "cell_type": "code",
      "source": [
        "sns.histplot(df['Age'], kde=True)\n",
        "plt.show()"
      ],
      "metadata": {
        "colab": {
          "base_uri": "https://localhost:8080/",
          "height": 449
        },
        "id": "KmVIkD7QUyy7",
        "outputId": "72eb5bd5-b66a-4147-ac7d-69f68a56ee40"
      },
      "execution_count": null,
      "outputs": [
        {
          "output_type": "display_data",
          "data": {
            "text/plain": [
              "<Figure size 640x480 with 1 Axes>"
            ],
            "image/png": "[encoded data removed]"
          },
          "metadata": {}
        }
      ]
    },
    {
      "cell_type": "markdown",
      "source": [
        "Значения содержат некорректные данные, т.к. возраст содержит > 150 лет, что невозможно. Подберем экспериментально допустимое значение возраста - примерно 0.3% перцентиль."
      ],
      "metadata": {
        "id": "RiCxvuv7XiwP"
      }
    },
    {
      "cell_type": "code",
      "source": [
        "age_ok = df['Age'].quantile(0.997)\n",
        "age_ok"
      ],
      "metadata": {
        "colab": {
          "base_uri": "https://localhost:8080/"
        },
        "id": "E26U879QXjxY",
        "outputId": "beefd279-a631-4fe6-9771-21517a7a5dde"
      },
      "execution_count": null,
      "outputs": [
        {
          "output_type": "execute_result",
          "data": {
            "text/plain": [
              "105.07399999999325"
            ]
          },
          "metadata": {},
          "execution_count": 127
        }
      ]
    },
    {
      "cell_type": "markdown",
      "source": [
        "Видим, что 0.3% можно считать корректными. Строки, которые больше этого значения можно отбросить из таблицы. Это сделаем в конце исселодвательского анализа."
      ],
      "metadata": {
        "id": "PH0hYhKhXrvp"
      }
    },
    {
      "cell_type": "code",
      "source": [
        "df.drop(df[df['Age'] > 105].index, inplace=True)"
      ],
      "metadata": {
        "id": "uyMAnXJ_c9Jw"
      },
      "execution_count": null,
      "outputs": []
    },
    {
      "cell_type": "markdown",
      "source": [
        "## Исследуем Customer Type"
      ],
      "metadata": {
        "id": "5BpUCU-mdDB8"
      }
    },
    {
      "cell_type": "code",
      "source": [
        "df[['Customer Type']].value_counts(dropna=False, normalize=True)"
      ],
      "metadata": {
        "colab": {
          "base_uri": "https://localhost:8080/"
        },
        "id": "2D_2Ved2XtqR",
        "outputId": "dec821dd-21ae-4c8c-dcab-9b3824261a60"
      },
      "execution_count": null,
      "outputs": [
        {
          "output_type": "execute_result",
          "data": {
            "text/plain": [
              "Customer Type    \n",
              "Loyal Customer       0.816841\n",
              "disloyal Customer    0.182551\n",
              "NaN                  0.000608\n",
              "dtype: float64"
            ]
          },
          "metadata": {},
          "execution_count": 129
        }
      ]
    },
    {
      "cell_type": "markdown",
      "source": [
        "Значения содержат NaN. Подсчитаем количество NaN. Можно сделать вывод, что их очень мало, поэтому эти строки из таблицы можно выбросить. Это сделаем в конце исселодвательского анализа.\n",
        "## Исследуем Type of Travel"
      ],
      "metadata": {
        "id": "8EgZ-nlAYZ4K"
      }
    },
    {
      "cell_type": "code",
      "source": [
        "df[['Type of Travel']].value_counts(dropna=False, normalize=True)"
      ],
      "metadata": {
        "colab": {
          "base_uri": "https://localhost:8080/"
        },
        "id": "C-fCOUFoYc5G",
        "outputId": "b24f0169-658d-4b96-ff9f-efa2ed0a7e75"
      },
      "execution_count": null,
      "outputs": [
        {
          "output_type": "execute_result",
          "data": {
            "text/plain": [
              "Type of Travel \n",
              "Business travel    0.688879\n",
              "Personal Travel    0.310272\n",
              "NaN                0.000849\n",
              "dtype: float64"
            ]
          },
          "metadata": {},
          "execution_count": 130
        }
      ]
    },
    {
      "cell_type": "markdown",
      "source": [
        "Значения содержат NaN. Подсчитаем количество NaN. Можно сделать вывод, что их очень мало, поэтому эти строки из таблицы можно выбросить. Это сделаем в конце исселодвательского анализа.\n",
        "## Исследуем Class"
      ],
      "metadata": {
        "id": "7hPJVaV2Yq5N"
      }
    },
    {
      "cell_type": "code",
      "source": [
        "df[['Class']].value_counts(dropna=False, normalize=True)"
      ],
      "metadata": {
        "colab": {
          "base_uri": "https://localhost:8080/"
        },
        "id": "u57MxLTeYwbe",
        "outputId": "4febf139-c17a-47ea-c015-c37f5b62c765"
      },
      "execution_count": null,
      "outputs": [
        {
          "output_type": "execute_result",
          "data": {
            "text/plain": [
              "Class   \n",
              "Business    0.477436\n",
              "Eco         0.449654\n",
              "Eco Plus    0.072051\n",
              "NaN         0.000859\n",
              "dtype: float64"
            ]
          },
          "metadata": {},
          "execution_count": 131
        }
      ]
    },
    {
      "cell_type": "markdown",
      "source": [
        "Значения содержат NaN. Подсчитаем количество NaN. Можно сделать вывод, что их очень мало, поэтому эти строки из таблицы можно выбросить. Это сделаем в конце исселодвательского анализа.\n",
        "## Исследуем Flight Distance"
      ],
      "metadata": {
        "id": "PUeFThMPY7Wv"
      }
    },
    {
      "cell_type": "code",
      "source": [
        "sns.histplot(df['Flight Distance'], kde=True)\n",
        "plt.show()"
      ],
      "metadata": {
        "colab": {
          "base_uri": "https://localhost:8080/",
          "height": 449
        },
        "id": "n8VRyGCXZAmC",
        "outputId": "939ec01e-ebc7-45e0-f7c5-9f22e1945d45"
      },
      "execution_count": null,
      "outputs": [
        {
          "output_type": "display_data",
          "data": {
            "text/plain": [
              "<Figure size 640x480 with 1 Axes>"
            ],
            "image/png": "[encoded data removed]"
          },
          "metadata": {}
        }
      ]
    },
    {
      "cell_type": "markdown",
      "source": [
        "Значения содержат некорректные данные, т.к. дистанция > 24901 миль, что невозможно, т.к. это длина экватора. Подберем экспериментально допустимое значение дистанции - примерно 0.2 перцентиль.\n"
      ],
      "metadata": {
        "id": "OI-RLE5ZZNUd"
      }
    },
    {
      "cell_type": "code",
      "source": [
        "distance_ok = df['Flight Distance'].quantile(0.998)\n",
        "distance_ok"
      ],
      "metadata": {
        "colab": {
          "base_uri": "https://localhost:8080/"
        },
        "id": "XPHbkBCWZOCF",
        "outputId": "119b7500-0b14-46f1-b6c3-48eb08bfe315"
      },
      "execution_count": null,
      "outputs": [
        {
          "output_type": "execute_result",
          "data": {
            "text/plain": [
              "4963.0"
            ]
          },
          "metadata": {},
          "execution_count": 133
        }
      ]
    },
    {
      "cell_type": "markdown",
      "source": [
        "Увидим, что 0.3% можно считать корректными. Строки, которые больше этого значения можно отбросить из таблицы. Это сделаем в конце исселодвательского анализа."
      ],
      "metadata": {
        "id": "iiMNbf4RZRwd"
      }
    },
    {
      "cell_type": "code",
      "source": [
        "df.drop(df[df['Flight Distance'] > 4963.0].index, inplace=True)"
      ],
      "metadata": {
        "id": "VZl_cfCvcLZy"
      },
      "execution_count": null,
      "outputs": []
    },
    {
      "cell_type": "markdown",
      "source": [
        "## Исследуем Departure Delay in Minutes"
      ],
      "metadata": {
        "id": "gzZEgLjMdcm5"
      }
    },
    {
      "cell_type": "code",
      "source": [
        "sns.histplot(df['Departure Delay in Minutes'], kde=True)\n",
        "plt.show()"
      ],
      "metadata": {
        "colab": {
          "base_uri": "https://localhost:8080/",
          "height": 449
        },
        "id": "BaRyZrhGd5AY",
        "outputId": "b04e8ebd-3b68-4b99-ad14-e32df56e5c08"
      },
      "execution_count": null,
      "outputs": [
        {
          "output_type": "display_data",
          "data": {
            "text/plain": [
              "<Figure size 640x480 with 1 Axes>"
            ],
            "image/png": "[encoded data removed]"
          },
          "metadata": {}
        }
      ]
    },
    {
      "cell_type": "markdown",
      "source": [
        "Значения содержат некорректные данные, т.к. время > 20000 минут, что невозможно, т.к. это 333 часа. Подберем экспериментально допустимое значение задержки - примерно 0.2 перцентиль."
      ],
      "metadata": {
        "id": "dlNKptqIdmAi"
      }
    },
    {
      "cell_type": "code",
      "source": [
        "departue_delay_ok = df['Departure Delay in Minutes'].quantile(0.998)\n",
        "departue_delay_ok"
      ],
      "metadata": {
        "colab": {
          "base_uri": "https://localhost:8080/"
        },
        "id": "P1Dj7lH1diBg",
        "outputId": "907e5afc-a636-4079-8cc5-145375e73a92"
      },
      "execution_count": null,
      "outputs": [
        {
          "output_type": "execute_result",
          "data": {
            "text/plain": [
              "336.0"
            ]
          },
          "metadata": {},
          "execution_count": 136
        }
      ]
    },
    {
      "cell_type": "markdown",
      "source": [
        "Увидим, что 0.2% можно считать корректными. Строки, которые больше этого значения можно отбросить из таблицы. Это сделаем в конце исселодвательского анализа."
      ],
      "metadata": {
        "id": "eK39gIEWdsQP"
      }
    },
    {
      "cell_type": "code",
      "source": [
        "df.drop(df[df['Departure Delay in Minutes'] > 336.0].index, inplace=True)"
      ],
      "metadata": {
        "id": "rs3jU076duUn"
      },
      "execution_count": null,
      "outputs": []
    },
    {
      "cell_type": "markdown",
      "source": [
        "## Исследуем Arrival Delay in Minutes"
      ],
      "metadata": {
        "id": "3P2nVFZWd2J7"
      }
    },
    {
      "cell_type": "code",
      "source": [
        "sns.histplot(df['Arrival Delay in Minutes'], kde=True)\n",
        "plt.show()"
      ],
      "metadata": {
        "colab": {
          "base_uri": "https://localhost:8080/",
          "height": 451
        },
        "id": "NR1UdoeBeHIa",
        "outputId": "f9f7016a-98e3-4917-bc07-24ac627a3e7b"
      },
      "execution_count": null,
      "outputs": [
        {
          "output_type": "display_data",
          "data": {
            "text/plain": [
              "<Figure size 640x480 with 1 Axes>"
            ],
            "image/png": "[encoded data removed]"
          },
          "metadata": {}
        }
      ]
    },
    {
      "cell_type": "markdown",
      "source": [
        "Значения содержат некорректные данные, т.к. время > 14000 минут, что невозможно, т.к. это 233 часа. Подберем экспериментально допустимое значение задержки - примерно 0.2 перцентиль."
      ],
      "metadata": {
        "id": "0NcDy_OseWa4"
      }
    },
    {
      "cell_type": "code",
      "source": [
        "arrival_delay_ok = df['Arrival Delay in Minutes'].quantile(0.998)\n",
        "arrival_delay_ok"
      ],
      "metadata": {
        "colab": {
          "base_uri": "https://localhost:8080/"
        },
        "id": "PMZdlu9qeYZD",
        "outputId": "c106cc68-3c77-40fd-cac3-28e268e7ec3c"
      },
      "execution_count": null,
      "outputs": [
        {
          "output_type": "execute_result",
          "data": {
            "text/plain": [
              "284.0"
            ]
          },
          "metadata": {},
          "execution_count": 139
        }
      ]
    },
    {
      "cell_type": "markdown",
      "source": [
        "Увидим, что 0.2% можно считать корректными. Строки, которые больше этого значения можно отбросить из таблицы. Это сделаем в конце исселодвательского анализа."
      ],
      "metadata": {
        "id": "azPdd5Tte273"
      }
    },
    {
      "cell_type": "code",
      "source": [
        "df.drop(df[df['Arrival Delay in Minutes'] > 284.0].index, inplace=True)"
      ],
      "metadata": {
        "id": "K7K23g0neekn"
      },
      "execution_count": null,
      "outputs": []
    },
    {
      "cell_type": "markdown",
      "source": [
        "## Исследуем признаки:\n",
        "- Inflight wifi service\n",
        "- Departure/Arrival time convenient\n",
        "- Ease of Online booking\n",
        "- Gate location\n",
        "- Food and drink\n",
        "- Online boarding\n",
        "- Seat comfort\n",
        "- Inflight entertainment\n",
        "- On-board service\n",
        "- Leg room service\n",
        "- Baggage handling\n",
        "- Checkin service\n",
        "- Inflight service\n",
        "- Cleanliness\n",
        "Подсчитаем количество значений нецелевых оценок вне диапазона"
      ],
      "metadata": {
        "id": "M1FPD8mpgKI0"
      }
    },
    {
      "cell_type": "code",
      "source": [
        "params = [\n",
        "'Inflight wifi service',\n",
        "'Departure/Arrival time convenient',\n",
        "'Ease of Online booking',\n",
        "'Gate location',\n",
        "'Food and drink',\n",
        "'Online boarding',\n",
        "'Seat comfort',\n",
        "'Inflight entertainment',\n",
        "'On-board service',\n",
        "'Leg room service',\n",
        "'Baggage handling',\n",
        "'Checkin service',\n",
        "'Inflight service',\n",
        "'Cleanliness'\n",
        "]\n",
        "\n",
        "for p in params:\n",
        "  print(len(df[(df[p] < 1) | (df[p] > 5)])/len(df)*100)"
      ],
      "metadata": {
        "colab": {
          "base_uri": "https://localhost:8080/"
        },
        "id": "eyRVDyYWg3Od",
        "outputId": "3e25b6fb-103b-4aaf-dfd4-bdcd5302f0d5"
      },
      "execution_count": null,
      "outputs": [
        {
          "output_type": "stream",
          "name": "stdout",
          "text": [
            "3.0177687154092627\n",
            "5.142246820079619\n",
            "4.346053014855811\n",
            "0.03204194581998252\n",
            "0.1136032624526653\n",
            "2.3837265753956696\n",
            "0.03204194581998252\n",
            "0.03592581804058647\n",
            "0.029129041654529564\n",
            "0.49422274007185163\n",
            "0.025245169433925622\n",
            "0.03495484998543548\n",
            "0.03592581804058647\n",
            "0.036896786095737454\n"
          ]
        }
      ]
    },
    {
      "cell_type": "markdown",
      "source": [
        "Во всех категориях нецелевых оценок равно или меньше 5%, поэтому их можно отбросить из таблицы"
      ],
      "metadata": {
        "id": "BmFP0qHKhXuh"
      }
    },
    {
      "cell_type": "code",
      "source": [
        "for p in params:\n",
        "  df.loc[(df[p] < 1) | (df[p] > 5)] = np.nan"
      ],
      "metadata": {
        "id": "hxcXSBF9ht_b"
      },
      "execution_count": null,
      "outputs": []
    },
    {
      "cell_type": "code",
      "source": [
        "df = df.dropna()"
      ],
      "metadata": {
        "id": "EAsvBTLlzlxd"
      },
      "execution_count": null,
      "outputs": []
    },
    {
      "cell_type": "code",
      "source": [
        "# df.head(3)\n",
        "# df.sample(3)\n",
        "df.shape\n",
        "# df.info()"
      ],
      "metadata": {
        "colab": {
          "base_uri": "https://localhost:8080/"
        },
        "id": "K-ZkbmDKpZIR",
        "outputId": "fc5c6d59-2ed8-47a3-b346-adc3d6359ce0"
      },
      "execution_count": null,
      "outputs": [
        {
          "output_type": "execute_result",
          "data": {
            "text/plain": [
              "(92801, 24)"
            ]
          },
          "metadata": {},
          "execution_count": 144
        }
      ]
    },
    {
      "cell_type": "markdown",
      "source": [
        "Подсчитаем количество и %-ое соотношение отброшенных строк в сравнении с оригинальной таблицой"
      ],
      "metadata": {
        "id": "viKKewsorCax"
      }
    },
    {
      "cell_type": "code",
      "source": [
        "# было строк 129880\n",
        "# стало строк 92801\n",
        "(129880 - 92801)/129880*100"
      ],
      "metadata": {
        "colab": {
          "base_uri": "https://localhost:8080/"
        },
        "id": "bDeh_WQ70euu",
        "outputId": "e26c7c8c-5829-418c-81ee-3e3a4fddba55"
      },
      "execution_count": null,
      "outputs": [
        {
          "output_type": "execute_result",
          "data": {
            "text/plain": [
              "28.548660301817065"
            ]
          },
          "metadata": {},
          "execution_count": 153
        }
      ]
    },
    {
      "cell_type": "markdown",
      "source": [
        "## Преобразуем категориальные переменные Gender, Customer Type, Type of Travel, Class в числовые"
      ],
      "metadata": {
        "id": "z0aLXu7krGjq"
      }
    },
    {
      "cell_type": "code",
      "source": [
        "gender = pd.get_dummies(df['Gender'], prefix='Gender')\n",
        "gender.sample(3)"
      ],
      "metadata": {
        "colab": {
          "base_uri": "https://localhost:8080/",
          "height": 143
        },
        "id": "WUfyqqOnrHpR",
        "outputId": "fd4a8937-840f-4197-ad4e-5a5eeaf5981c"
      },
      "execution_count": null,
      "outputs": [
        {
          "output_type": "execute_result",
          "data": {
            "text/plain": [
              "        Gender_Female  Gender_Male\n",
              "68394               1            0\n",
              "119227              1            0\n",
              "56932               0            1"
            ],
            "text/html": [
              "\n",
              "  <div id=\"df-f03bad35-744d-4686-a1b6-2f7e686a92e6\">\n",
              "    <div class=\"colab-df-container\">\n",
              "      <div>\n",
              "<style scoped>\n",
              "    .dataframe tbody tr th:only-of-type {\n",
              "        vertical-align: middle;\n",
              "    }\n",
              "\n",
              "    .dataframe tbody tr th {\n",
              "        vertical-align: top;\n",
              "    }\n",
              "\n",
              "    .dataframe thead th {\n",
              "        text-align: right;\n",
              "    }\n",
              "</style>\n",
              "<table border=\"1\" class=\"dataframe\">\n",
              "  <thead>\n",
              "    <tr style=\"text-align: right;\">\n",
              "      <th></th>\n",
              "      <th>Gender_Female</th>\n",
              "      <th>Gender_Male</th>\n",
              "    </tr>\n",
              "  </thead>\n",
              "  <tbody>\n",
              "    <tr>\n",
              "      <th>68394</th>\n",
              "      <td>1</td>\n",
              "      <td>0</td>\n",
              "    </tr>\n",
              "    <tr>\n",
              "      <th>119227</th>\n",
              "      <td>1</td>\n",
              "      <td>0</td>\n",
              "    </tr>\n",
              "    <tr>\n",
              "      <th>56932</th>\n",
              "      <td>0</td>\n",
              "      <td>1</td>\n",
              "    </tr>\n",
              "  </tbody>\n",
              "</table>\n",
              "</div>\n",
              "      <button class=\"colab-df-convert\" onclick=\"convertToInteractive('df-f03bad35-744d-4686-a1b6-2f7e686a92e6')\"\n",
              "              title=\"Convert this dataframe to an interactive table.\"\n",
              "              style=\"display:none;\">\n",
              "        \n",
              "  <svg xmlns=\"http://www.w3.org/2000/svg\" height=\"24px\"viewBox=\"0 0 24 24\"\n",
              "       width=\"24px\">\n",
              "    <path d=\"M0 0h24v24H0V0z\" fill=\"none\"/>\n",
              "    <path d=\"M18.56 5.44l.94 2.06.94-2.06 2.06-.94-2.06-.94-.94-2.06-.94 2.06-2.06.94zm-11 1L8.5 8.5l.94-2.06 2.06-.94-2.06-.94L8.5 2.5l-.94 2.06-2.06.94zm10 10l.94 2.06.94-2.06 2.06-.94-2.06-.94-.94-2.06-.94 2.06-2.06.94z\"/><path d=\"M17.41 7.96l-1.37-1.37c-.4-.4-.92-.59-1.43-.59-.52 0-1.04.2-1.43.59L10.3 9.45l-7.72 7.72c-.78.78-.78 2.05 0 2.83L4 21.41c.39.39.9.59 1.41.59.51 0 1.02-.2 1.41-.59l7.78-7.78 2.81-2.81c.8-.78.8-2.07 0-2.86zM5.41 20L4 18.59l7.72-7.72 1.47 1.35L5.41 20z\"/>\n",
              "  </svg>\n",
              "      </button>\n",
              "      \n",
              "  <style>\n",
              "    .colab-df-container {\n",
              "      display:flex;\n",
              "      flex-wrap:wrap;\n",
              "      gap: 12px;\n",
              "    }\n",
              "\n",
              "    .colab-df-convert {\n",
              "      background-color: #E8F0FE;\n",
              "      border: none;\n",
              "      border-radius: 50%;\n",
              "      cursor: pointer;\n",
              "      display: none;\n",
              "      fill: #1967D2;\n",
              "      height: 32px;\n",
              "      padding: 0 0 0 0;\n",
              "      width: 32px;\n",
              "    }\n",
              "\n",
              "    .colab-df-convert:hover {\n",
              "      background-color: #E2EBFA;\n",
              "      box-shadow: 0px 1px 2px rgba(60, 64, 67, 0.3), 0px 1px 3px 1px rgba(60, 64, 67, 0.15);\n",
              "      fill: #174EA6;\n",
              "    }\n",
              "\n",
              "    [theme=dark] .colab-df-convert {\n",
              "      background-color: #3B4455;\n",
              "      fill: #D2E3FC;\n",
              "    }\n",
              "\n",
              "    [theme=dark] .colab-df-convert:hover {\n",
              "      background-color: #434B5C;\n",
              "      box-shadow: 0px 1px 3px 1px rgba(0, 0, 0, 0.15);\n",
              "      filter: drop-shadow(0px 1px 2px rgba(0, 0, 0, 0.3));\n",
              "      fill: #FFFFFF;\n",
              "    }\n",
              "  </style>\n",
              "\n",
              "      <script>\n",
              "        const buttonEl =\n",
              "          document.querySelector('#df-f03bad35-744d-4686-a1b6-2f7e686a92e6 button.colab-df-convert');\n",
              "        buttonEl.style.display =\n",
              "          google.colab.kernel.accessAllowed ? 'block' : 'none';\n",
              "\n",
              "        async function convertToInteractive(key) {\n",
              "          const element = document.querySelector('#df-f03bad35-744d-4686-a1b6-2f7e686a92e6');\n",
              "          const dataTable =\n",
              "            await google.colab.kernel.invokeFunction('convertToInteractive',\n",
              "                                                     [key], {});\n",
              "          if (!dataTable) return;\n",
              "\n",
              "          const docLinkHtml = 'Like what you see? Visit the ' +\n",
              "            '<a target=\"_blank\" href=https://colab.research.google.com/notebooks/data_table.ipynb>data table notebook</a>'\n",
              "            + ' to learn more about interactive tables.';\n",
              "          element.innerHTML = '';\n",
              "          dataTable['output_type'] = 'display_data';\n",
              "          await google.colab.output.renderOutput(dataTable, element);\n",
              "          const docLink = document.createElement('div');\n",
              "          docLink.innerHTML = docLinkHtml;\n",
              "          element.appendChild(docLink);\n",
              "        }\n",
              "      </script>\n",
              "    </div>\n",
              "  </div>\n",
              "  "
            ]
          },
          "metadata": {},
          "execution_count": 146
        }
      ]
    },
    {
      "cell_type": "code",
      "source": [
        "customer_type = pd.get_dummies(df['Customer Type'], prefix='Customer Type')\n",
        "customer_type.sample(3)"
      ],
      "metadata": {
        "colab": {
          "base_uri": "https://localhost:8080/",
          "height": 143
        },
        "id": "N4QuM6M2rws-",
        "outputId": "7ae81186-319c-4b7c-bbde-655c9dd6ba88"
      },
      "execution_count": null,
      "outputs": [
        {
          "output_type": "execute_result",
          "data": {
            "text/plain": [
              "       Customer Type_Loyal Customer  Customer Type_disloyal Customer\n",
              "21964                             1                                0\n",
              "84315                             1                                0\n",
              "43985                             1                                0"
            ],
            "text/html": [
              "\n",
              "  <div id=\"df-989201b1-9421-4c8d-8dd3-d62380c50873\">\n",
              "    <div class=\"colab-df-container\">\n",
              "      <div>\n",
              "<style scoped>\n",
              "    .dataframe tbody tr th:only-of-type {\n",
              "        vertical-align: middle;\n",
              "    }\n",
              "\n",
              "    .dataframe tbody tr th {\n",
              "        vertical-align: top;\n",
              "    }\n",
              "\n",
              "    .dataframe thead th {\n",
              "        text-align: right;\n",
              "    }\n",
              "</style>\n",
              "<table border=\"1\" class=\"dataframe\">\n",
              "  <thead>\n",
              "    <tr style=\"text-align: right;\">\n",
              "      <th></th>\n",
              "      <th>Customer Type_Loyal Customer</th>\n",
              "      <th>Customer Type_disloyal Customer</th>\n",
              "    </tr>\n",
              "  </thead>\n",
              "  <tbody>\n",
              "    <tr>\n",
              "      <th>21964</th>\n",
              "      <td>1</td>\n",
              "      <td>0</td>\n",
              "    </tr>\n",
              "    <tr>\n",
              "      <th>84315</th>\n",
              "      <td>1</td>\n",
              "      <td>0</td>\n",
              "    </tr>\n",
              "    <tr>\n",
              "      <th>43985</th>\n",
              "      <td>1</td>\n",
              "      <td>0</td>\n",
              "    </tr>\n",
              "  </tbody>\n",
              "</table>\n",
              "</div>\n",
              "      <button class=\"colab-df-convert\" onclick=\"convertToInteractive('df-989201b1-9421-4c8d-8dd3-d62380c50873')\"\n",
              "              title=\"Convert this dataframe to an interactive table.\"\n",
              "              style=\"display:none;\">\n",
              "        \n",
              "  <svg xmlns=\"http://www.w3.org/2000/svg\" height=\"24px\"viewBox=\"0 0 24 24\"\n",
              "       width=\"24px\">\n",
              "    <path d=\"M0 0h24v24H0V0z\" fill=\"none\"/>\n",
              "    <path d=\"M18.56 5.44l.94 2.06.94-2.06 2.06-.94-2.06-.94-.94-2.06-.94 2.06-2.06.94zm-11 1L8.5 8.5l.94-2.06 2.06-.94-2.06-.94L8.5 2.5l-.94 2.06-2.06.94zm10 10l.94 2.06.94-2.06 2.06-.94-2.06-.94-.94-2.06-.94 2.06-2.06.94z\"/><path d=\"M17.41 7.96l-1.37-1.37c-.4-.4-.92-.59-1.43-.59-.52 0-1.04.2-1.43.59L10.3 9.45l-7.72 7.72c-.78.78-.78 2.05 0 2.83L4 21.41c.39.39.9.59 1.41.59.51 0 1.02-.2 1.41-.59l7.78-7.78 2.81-2.81c.8-.78.8-2.07 0-2.86zM5.41 20L4 18.59l7.72-7.72 1.47 1.35L5.41 20z\"/>\n",
              "  </svg>\n",
              "      </button>\n",
              "      \n",
              "  <style>\n",
              "    .colab-df-container {\n",
              "      display:flex;\n",
              "      flex-wrap:wrap;\n",
              "      gap: 12px;\n",
              "    }\n",
              "\n",
              "    .colab-df-convert {\n",
              "      background-color: #E8F0FE;\n",
              "      border: none;\n",
              "      border-radius: 50%;\n",
              "      cursor: pointer;\n",
              "      display: none;\n",
              "      fill: #1967D2;\n",
              "      height: 32px;\n",
              "      padding: 0 0 0 0;\n",
              "      width: 32px;\n",
              "    }\n",
              "\n",
              "    .colab-df-convert:hover {\n",
              "      background-color: #E2EBFA;\n",
              "      box-shadow: 0px 1px 2px rgba(60, 64, 67, 0.3), 0px 1px 3px 1px rgba(60, 64, 67, 0.15);\n",
              "      fill: #174EA6;\n",
              "    }\n",
              "\n",
              "    [theme=dark] .colab-df-convert {\n",
              "      background-color: #3B4455;\n",
              "      fill: #D2E3FC;\n",
              "    }\n",
              "\n",
              "    [theme=dark] .colab-df-convert:hover {\n",
              "      background-color: #434B5C;\n",
              "      box-shadow: 0px 1px 3px 1px rgba(0, 0, 0, 0.15);\n",
              "      filter: drop-shadow(0px 1px 2px rgba(0, 0, 0, 0.3));\n",
              "      fill: #FFFFFF;\n",
              "    }\n",
              "  </style>\n",
              "\n",
              "      <script>\n",
              "        const buttonEl =\n",
              "          document.querySelector('#df-989201b1-9421-4c8d-8dd3-d62380c50873 button.colab-df-convert');\n",
              "        buttonEl.style.display =\n",
              "          google.colab.kernel.accessAllowed ? 'block' : 'none';\n",
              "\n",
              "        async function convertToInteractive(key) {\n",
              "          const element = document.querySelector('#df-989201b1-9421-4c8d-8dd3-d62380c50873');\n",
              "          const dataTable =\n",
              "            await google.colab.kernel.invokeFunction('convertToInteractive',\n",
              "                                                     [key], {});\n",
              "          if (!dataTable) return;\n",
              "\n",
              "          const docLinkHtml = 'Like what you see? Visit the ' +\n",
              "            '<a target=\"_blank\" href=https://colab.research.google.com/notebooks/data_table.ipynb>data table notebook</a>'\n",
              "            + ' to learn more about interactive tables.';\n",
              "          element.innerHTML = '';\n",
              "          dataTable['output_type'] = 'display_data';\n",
              "          await google.colab.output.renderOutput(dataTable, element);\n",
              "          const docLink = document.createElement('div');\n",
              "          docLink.innerHTML = docLinkHtml;\n",
              "          element.appendChild(docLink);\n",
              "        }\n",
              "      </script>\n",
              "    </div>\n",
              "  </div>\n",
              "  "
            ]
          },
          "metadata": {},
          "execution_count": 147
        }
      ]
    },
    {
      "cell_type": "code",
      "source": [
        "type_of_travel = pd.get_dummies(df['Type of Travel'], prefix='Type of Travel')\n",
        "type_of_travel.sample(3)"
      ],
      "metadata": {
        "colab": {
          "base_uri": "https://localhost:8080/",
          "height": 143
        },
        "id": "HaO8QWZ90lUO",
        "outputId": "22d686e2-d281-467c-a30d-7215a79530a9"
      },
      "execution_count": null,
      "outputs": [
        {
          "output_type": "execute_result",
          "data": {
            "text/plain": [
              "        Type of Travel_Business travel  Type of Travel_Personal Travel\n",
              "102533                               0                               1\n",
              "112580                               1                               0\n",
              "116288                               0                               1"
            ],
            "text/html": [
              "\n",
              "  <div id=\"df-8a4fe14c-5d8c-48bb-a8a1-802c9ddb2b0b\">\n",
              "    <div class=\"colab-df-container\">\n",
              "      <div>\n",
              "<style scoped>\n",
              "    .dataframe tbody tr th:only-of-type {\n",
              "        vertical-align: middle;\n",
              "    }\n",
              "\n",
              "    .dataframe tbody tr th {\n",
              "        vertical-align: top;\n",
              "    }\n",
              "\n",
              "    .dataframe thead th {\n",
              "        text-align: right;\n",
              "    }\n",
              "</style>\n",
              "<table border=\"1\" class=\"dataframe\">\n",
              "  <thead>\n",
              "    <tr style=\"text-align: right;\">\n",
              "      <th></th>\n",
              "      <th>Type of Travel_Business travel</th>\n",
              "      <th>Type of Travel_Personal Travel</th>\n",
              "    </tr>\n",
              "  </thead>\n",
              "  <tbody>\n",
              "    <tr>\n",
              "      <th>102533</th>\n",
              "      <td>0</td>\n",
              "      <td>1</td>\n",
              "    </tr>\n",
              "    <tr>\n",
              "      <th>112580</th>\n",
              "      <td>1</td>\n",
              "      <td>0</td>\n",
              "    </tr>\n",
              "    <tr>\n",
              "      <th>116288</th>\n",
              "      <td>0</td>\n",
              "      <td>1</td>\n",
              "    </tr>\n",
              "  </tbody>\n",
              "</table>\n",
              "</div>\n",
              "      <button class=\"colab-df-convert\" onclick=\"convertToInteractive('df-8a4fe14c-5d8c-48bb-a8a1-802c9ddb2b0b')\"\n",
              "              title=\"Convert this dataframe to an interactive table.\"\n",
              "              style=\"display:none;\">\n",
              "        \n",
              "  <svg xmlns=\"http://www.w3.org/2000/svg\" height=\"24px\"viewBox=\"0 0 24 24\"\n",
              "       width=\"24px\">\n",
              "    <path d=\"M0 0h24v24H0V0z\" fill=\"none\"/>\n",
              "    <path d=\"M18.56 5.44l.94 2.06.94-2.06 2.06-.94-2.06-.94-.94-2.06-.94 2.06-2.06.94zm-11 1L8.5 8.5l.94-2.06 2.06-.94-2.06-.94L8.5 2.5l-.94 2.06-2.06.94zm10 10l.94 2.06.94-2.06 2.06-.94-2.06-.94-.94-2.06-.94 2.06-2.06.94z\"/><path d=\"M17.41 7.96l-1.37-1.37c-.4-.4-.92-.59-1.43-.59-.52 0-1.04.2-1.43.59L10.3 9.45l-7.72 7.72c-.78.78-.78 2.05 0 2.83L4 21.41c.39.39.9.59 1.41.59.51 0 1.02-.2 1.41-.59l7.78-7.78 2.81-2.81c.8-.78.8-2.07 0-2.86zM5.41 20L4 18.59l7.72-7.72 1.47 1.35L5.41 20z\"/>\n",
              "  </svg>\n",
              "      </button>\n",
              "      \n",
              "  <style>\n",
              "    .colab-df-container {\n",
              "      display:flex;\n",
              "      flex-wrap:wrap;\n",
              "      gap: 12px;\n",
              "    }\n",
              "\n",
              "    .colab-df-convert {\n",
              "      background-color: #E8F0FE;\n",
              "      border: none;\n",
              "      border-radius: 50%;\n",
              "      cursor: pointer;\n",
              "      display: none;\n",
              "      fill: #1967D2;\n",
              "      height: 32px;\n",
              "      padding: 0 0 0 0;\n",
              "      width: 32px;\n",
              "    }\n",
              "\n",
              "    .colab-df-convert:hover {\n",
              "      background-color: #E2EBFA;\n",
              "      box-shadow: 0px 1px 2px rgba(60, 64, 67, 0.3), 0px 1px 3px 1px rgba(60, 64, 67, 0.15);\n",
              "      fill: #174EA6;\n",
              "    }\n",
              "\n",
              "    [theme=dark] .colab-df-convert {\n",
              "      background-color: #3B4455;\n",
              "      fill: #D2E3FC;\n",
              "    }\n",
              "\n",
              "    [theme=dark] .colab-df-convert:hover {\n",
              "      background-color: #434B5C;\n",
              "      box-shadow: 0px 1px 3px 1px rgba(0, 0, 0, 0.15);\n",
              "      filter: drop-shadow(0px 1px 2px rgba(0, 0, 0, 0.3));\n",
              "      fill: #FFFFFF;\n",
              "    }\n",
              "  </style>\n",
              "\n",
              "      <script>\n",
              "        const buttonEl =\n",
              "          document.querySelector('#df-8a4fe14c-5d8c-48bb-a8a1-802c9ddb2b0b button.colab-df-convert');\n",
              "        buttonEl.style.display =\n",
              "          google.colab.kernel.accessAllowed ? 'block' : 'none';\n",
              "\n",
              "        async function convertToInteractive(key) {\n",
              "          const element = document.querySelector('#df-8a4fe14c-5d8c-48bb-a8a1-802c9ddb2b0b');\n",
              "          const dataTable =\n",
              "            await google.colab.kernel.invokeFunction('convertToInteractive',\n",
              "                                                     [key], {});\n",
              "          if (!dataTable) return;\n",
              "\n",
              "          const docLinkHtml = 'Like what you see? Visit the ' +\n",
              "            '<a target=\"_blank\" href=https://colab.research.google.com/notebooks/data_table.ipynb>data table notebook</a>'\n",
              "            + ' to learn more about interactive tables.';\n",
              "          element.innerHTML = '';\n",
              "          dataTable['output_type'] = 'display_data';\n",
              "          await google.colab.output.renderOutput(dataTable, element);\n",
              "          const docLink = document.createElement('div');\n",
              "          docLink.innerHTML = docLinkHtml;\n",
              "          element.appendChild(docLink);\n",
              "        }\n",
              "      </script>\n",
              "    </div>\n",
              "  </div>\n",
              "  "
            ]
          },
          "metadata": {},
          "execution_count": 148
        }
      ]
    },
    {
      "cell_type": "code",
      "source": [
        "type_of_class = pd.get_dummies(df['Class'], prefix='Class')\n",
        "type_of_class.sample(3)"
      ],
      "metadata": {
        "colab": {
          "base_uri": "https://localhost:8080/",
          "height": 143
        },
        "id": "IyAfAICf0tJ0",
        "outputId": "fc5a85ff-c708-4c6d-8fbb-567575efacc5"
      },
      "execution_count": null,
      "outputs": [
        {
          "output_type": "execute_result",
          "data": {
            "text/plain": [
              "        Class_Business  Class_Eco  Class_Eco Plus\n",
              "3287                 0          1               0\n",
              "100056               0          1               0\n",
              "52335                1          0               0"
            ],
            "text/html": [
              "\n",
              "  <div id=\"df-cc54a258-e4bc-4269-ac44-67f288d72b82\">\n",
              "    <div class=\"colab-df-container\">\n",
              "      <div>\n",
              "<style scoped>\n",
              "    .dataframe tbody tr th:only-of-type {\n",
              "        vertical-align: middle;\n",
              "    }\n",
              "\n",
              "    .dataframe tbody tr th {\n",
              "        vertical-align: top;\n",
              "    }\n",
              "\n",
              "    .dataframe thead th {\n",
              "        text-align: right;\n",
              "    }\n",
              "</style>\n",
              "<table border=\"1\" class=\"dataframe\">\n",
              "  <thead>\n",
              "    <tr style=\"text-align: right;\">\n",
              "      <th></th>\n",
              "      <th>Class_Business</th>\n",
              "      <th>Class_Eco</th>\n",
              "      <th>Class_Eco Plus</th>\n",
              "    </tr>\n",
              "  </thead>\n",
              "  <tbody>\n",
              "    <tr>\n",
              "      <th>3287</th>\n",
              "      <td>0</td>\n",
              "      <td>1</td>\n",
              "      <td>0</td>\n",
              "    </tr>\n",
              "    <tr>\n",
              "      <th>100056</th>\n",
              "      <td>0</td>\n",
              "      <td>1</td>\n",
              "      <td>0</td>\n",
              "    </tr>\n",
              "    <tr>\n",
              "      <th>52335</th>\n",
              "      <td>1</td>\n",
              "      <td>0</td>\n",
              "      <td>0</td>\n",
              "    </tr>\n",
              "  </tbody>\n",
              "</table>\n",
              "</div>\n",
              "      <button class=\"colab-df-convert\" onclick=\"convertToInteractive('df-cc54a258-e4bc-4269-ac44-67f288d72b82')\"\n",
              "              title=\"Convert this dataframe to an interactive table.\"\n",
              "              style=\"display:none;\">\n",
              "        \n",
              "  <svg xmlns=\"http://www.w3.org/2000/svg\" height=\"24px\"viewBox=\"0 0 24 24\"\n",
              "       width=\"24px\">\n",
              "    <path d=\"M0 0h24v24H0V0z\" fill=\"none\"/>\n",
              "    <path d=\"M18.56 5.44l.94 2.06.94-2.06 2.06-.94-2.06-.94-.94-2.06-.94 2.06-2.06.94zm-11 1L8.5 8.5l.94-2.06 2.06-.94-2.06-.94L8.5 2.5l-.94 2.06-2.06.94zm10 10l.94 2.06.94-2.06 2.06-.94-2.06-.94-.94-2.06-.94 2.06-2.06.94z\"/><path d=\"M17.41 7.96l-1.37-1.37c-.4-.4-.92-.59-1.43-.59-.52 0-1.04.2-1.43.59L10.3 9.45l-7.72 7.72c-.78.78-.78 2.05 0 2.83L4 21.41c.39.39.9.59 1.41.59.51 0 1.02-.2 1.41-.59l7.78-7.78 2.81-2.81c.8-.78.8-2.07 0-2.86zM5.41 20L4 18.59l7.72-7.72 1.47 1.35L5.41 20z\"/>\n",
              "  </svg>\n",
              "      </button>\n",
              "      \n",
              "  <style>\n",
              "    .colab-df-container {\n",
              "      display:flex;\n",
              "      flex-wrap:wrap;\n",
              "      gap: 12px;\n",
              "    }\n",
              "\n",
              "    .colab-df-convert {\n",
              "      background-color: #E8F0FE;\n",
              "      border: none;\n",
              "      border-radius: 50%;\n",
              "      cursor: pointer;\n",
              "      display: none;\n",
              "      fill: #1967D2;\n",
              "      height: 32px;\n",
              "      padding: 0 0 0 0;\n",
              "      width: 32px;\n",
              "    }\n",
              "\n",
              "    .colab-df-convert:hover {\n",
              "      background-color: #E2EBFA;\n",
              "      box-shadow: 0px 1px 2px rgba(60, 64, 67, 0.3), 0px 1px 3px 1px rgba(60, 64, 67, 0.15);\n",
              "      fill: #174EA6;\n",
              "    }\n",
              "\n",
              "    [theme=dark] .colab-df-convert {\n",
              "      background-color: #3B4455;\n",
              "      fill: #D2E3FC;\n",
              "    }\n",
              "\n",
              "    [theme=dark] .colab-df-convert:hover {\n",
              "      background-color: #434B5C;\n",
              "      box-shadow: 0px 1px 3px 1px rgba(0, 0, 0, 0.15);\n",
              "      filter: drop-shadow(0px 1px 2px rgba(0, 0, 0, 0.3));\n",
              "      fill: #FFFFFF;\n",
              "    }\n",
              "  </style>\n",
              "\n",
              "      <script>\n",
              "        const buttonEl =\n",
              "          document.querySelector('#df-cc54a258-e4bc-4269-ac44-67f288d72b82 button.colab-df-convert');\n",
              "        buttonEl.style.display =\n",
              "          google.colab.kernel.accessAllowed ? 'block' : 'none';\n",
              "\n",
              "        async function convertToInteractive(key) {\n",
              "          const element = document.querySelector('#df-cc54a258-e4bc-4269-ac44-67f288d72b82');\n",
              "          const dataTable =\n",
              "            await google.colab.kernel.invokeFunction('convertToInteractive',\n",
              "                                                     [key], {});\n",
              "          if (!dataTable) return;\n",
              "\n",
              "          const docLinkHtml = 'Like what you see? Visit the ' +\n",
              "            '<a target=\"_blank\" href=https://colab.research.google.com/notebooks/data_table.ipynb>data table notebook</a>'\n",
              "            + ' to learn more about interactive tables.';\n",
              "          element.innerHTML = '';\n",
              "          dataTable['output_type'] = 'display_data';\n",
              "          await google.colab.output.renderOutput(dataTable, element);\n",
              "          const docLink = document.createElement('div');\n",
              "          docLink.innerHTML = docLinkHtml;\n",
              "          element.appendChild(docLink);\n",
              "        }\n",
              "      </script>\n",
              "    </div>\n",
              "  </div>\n",
              "  "
            ]
          },
          "metadata": {},
          "execution_count": 149
        }
      ]
    },
    {
      "cell_type": "markdown",
      "source": [
        "## Добавим новые преобразованные значения в исследуемую таблицу"
      ],
      "metadata": {
        "id": "6ZiL14rArIMk"
      }
    },
    {
      "cell_type": "code",
      "source": [
        "new_df = pd.concat([df, gender], axis=1)\n",
        "new_df = pd.concat([new_df, customer_type], axis=1)\n",
        "new_df = pd.concat([new_df, type_of_travel], axis=1)\n",
        "new_df = pd.concat([new_df, type_of_class], axis=1)"
      ],
      "metadata": {
        "id": "yKegqvIbrKxC"
      },
      "execution_count": null,
      "outputs": []
    },
    {
      "cell_type": "markdown",
      "source": [
        "## Отбросим все Gender, Customer Type, Type of Travel, Class категориальные переменные из таблицы и нецелевые признаки и целевой признак"
      ],
      "metadata": {
        "id": "h-fjqQYFrLXT"
      }
    },
    {
      "cell_type": "code",
      "source": [
        "remove_columns = [\n",
        "    'Gender',\n",
        "    'Customer Type',\n",
        "    'Type of Travel',\n",
        "    'Class',\n",
        "    'Inflight wifi service',\n",
        "    'Departure/Arrival time convenient',\n",
        "    'Ease of Online booking',\n",
        "    'Gate location',\n",
        "    'Food and drink',\n",
        "    'Online boarding',\n",
        "    'Seat comfort',\n",
        "    'Inflight entertainment',\n",
        "    'On-board service',\n",
        "    'Leg room service',\n",
        "    'Baggage handling',\n",
        "    'Checkin service',\n",
        "    'Inflight service',\n",
        "    'Cleanliness',\n",
        "    'satisfaction',\n",
        "]\n",
        "X = new_df.drop(remove_columns, axis = 1)\n",
        "y = new_df['satisfaction']"
      ],
      "metadata": {
        "id": "E2oThtdKrN2Z"
      },
      "execution_count": null,
      "outputs": []
    },
    {
      "cell_type": "markdown",
      "source": [
        "## Применим логистическую регрессию для обучения модели satisfaction = f(parameteres)"
      ],
      "metadata": {
        "id": "m9134e2-rOH2"
      }
    },
    {
      "cell_type": "code",
      "source": [
        "from sklearn.model_selection import train_test_split\n",
        "\n",
        "X_train, X_test, y_train, y_test = train_test_split(X, y, test_size=0.25, random_state=42)\n",
        "X_train.shape, X_test.shape\n",
        "\n",
        "from sklearn.linear_model import LogisticRegression\n",
        "\n",
        "model = LogisticRegression()\n",
        "model.fit(X_train, y_train)\n",
        "pred = model.predict(X_test)\n",
        "\n",
        "from sklearn.metrics import confusion_matrix\n",
        "\n",
        "confusion_matrix(y_test, pred)"
      ],
      "metadata": {
        "colab": {
          "base_uri": "https://localhost:8080/"
        },
        "id": "pPre_X4DrP65",
        "outputId": "13cd3e50-a6af-44f5-d035-b5e54a09cd03"
      },
      "execution_count": null,
      "outputs": [
        {
          "output_type": "execute_result",
          "data": {
            "text/plain": [
              "array([[10268,  2978],\n",
              "       [ 5527,  4428]])"
            ]
          },
          "metadata": {},
          "execution_count": 152
        }
      ]
    }
  ]
}